{
 "cells": [
  {
   "cell_type": "markdown",
   "metadata": {},
   "source": [
    "# Indexing and slicing and iterating in NumPy"
   ]
  },
  {
   "cell_type": "code",
   "execution_count": 1,
   "metadata": {},
   "outputs": [],
   "source": [
    "# import numpy\n",
    "import numpy as np"
   ]
  },
  {
   "cell_type": "code",
   "execution_count": 5,
   "metadata": {},
   "outputs": [
    {
     "name": "stdout",
     "output_type": "stream",
     "text": [
      "[0. 1. 2. 3. 4. 5. 6. 7. 8. 9.]\n",
      "1.0\n",
      "[100. 100. 100.]\n",
      "[  0. 100.   4.   6.]\n",
      "[  9.   8.   7.   6.   5.   4. 100. 100. 100.   0.]\n",
      "0.0\n",
      "300.0\n",
      "300.0\n",
      "300.0\n",
      "12.0\n",
      "15.0\n",
      "18.0\n",
      "21.0\n",
      "24.0\n",
      "27.0\n"
     ]
    }
   ],
   "source": [
    "# create a 1d array\n",
    "x = np.linspace(0,9,10)\n",
    "print(x)\n",
    "\n",
    "print(x[1])                  # just the second entry, remember 0 based indexing\n",
    "\n",
    "# specific start and stop points (exclusive)\n",
    "x[0:2]                   # the first and second entries in the array, so N>=0 and N<2 (note the < upper bound - not inclusive)\n",
    "\n",
    "# assign the 2nd - 4th element to 100 (index 1,2,3)\n",
    "x[1:4] = 100               \n",
    "print(x[1:4])\n",
    "\n",
    "# start, stop, step interval\n",
    "print(x[0:8:2])\n",
    "\n",
    "# reverse x\n",
    "print(x[::-1])\n",
    "\n",
    "# iterate over all elements in x\n",
    "for i in x:\n",
    "    print(i*3)    # then i takes the value of each element in x"
   ]
  },
  {
   "cell_type": "markdown",
   "metadata": {},
   "source": [
    "## multidimentional array indexing, slicing etc"
   ]
  },
  {
   "cell_type": "code",
   "execution_count": 6,
   "metadata": {},
   "outputs": [
    {
     "name": "stdout",
     "output_type": "stream",
     "text": [
      "[[ 6.  9.  9.  1.  3.]\n",
      " [ 7.  5.  5.  6.  2.]\n",
      " [ 2.  6.  1.  5.  3.]\n",
      " [ 7.  9.  7.  1.  7.]\n",
      " [ 3.  5.  9.  8.  8.]\n",
      " [ 3.  9.  8.  5.  8.]\n",
      " [ 6.  7.  2.  7.  6.]\n",
      " [ 5.  8.  5.  2.  3.]\n",
      " [10. 10.  4.  6.  2.]\n",
      " [10.  2.  5.  8.  5.]]\n",
      "last row:  [10.  2.  5.  8.  5.]\n",
      "last column:  [3. 2. 3. 7. 8. 8. 6. 3. 2. 5.]\n",
      "last entry:  5.0\n",
      "[6. 9. 9. 1. 3.]\n",
      "[7. 5. 5. 6. 2.]\n",
      "[2. 6. 1. 5. 3.]\n",
      "[7. 9. 7. 1. 7.]\n",
      "[3. 5. 9. 8. 8.]\n",
      "[3. 9. 8. 5. 8.]\n",
      "[6. 7. 2. 7. 6.]\n",
      "[5. 8. 5. 2. 3.]\n",
      "[10. 10.  4.  6.  2.]\n",
      "[10.  2.  5.  8.  5.]\n",
      "6.0\n",
      "9.0\n",
      "9.0\n",
      "1.0\n",
      "3.0\n",
      "7.0\n",
      "5.0\n",
      "5.0\n",
      "6.0\n",
      "2.0\n",
      "2.0\n",
      "6.0\n",
      "1.0\n",
      "5.0\n",
      "3.0\n",
      "7.0\n",
      "9.0\n",
      "7.0\n",
      "1.0\n",
      "7.0\n",
      "3.0\n",
      "5.0\n",
      "9.0\n",
      "8.0\n",
      "8.0\n",
      "3.0\n",
      "9.0\n",
      "8.0\n",
      "5.0\n",
      "8.0\n",
      "6.0\n",
      "7.0\n",
      "2.0\n",
      "7.0\n",
      "6.0\n",
      "5.0\n",
      "8.0\n",
      "5.0\n",
      "2.0\n",
      "3.0\n",
      "10.0\n",
      "10.0\n",
      "4.0\n",
      "6.0\n",
      "2.0\n",
      "10.0\n",
      "2.0\n",
      "5.0\n",
      "8.0\n",
      "5.0\n"
     ]
    }
   ],
   "source": [
    "x = np.round(np.random.rand(10,5)*10)   # generate a matrix of uniformly distributed random numbers over 0:10\n",
    "print(x)\n",
    "\n",
    "x[0,0]     # first row, first column\n",
    "x[2,3]     # third row, 4th column\n",
    "\n",
    "x[:, 3]    # all entries in the 4th column \n",
    "x[3, :]    # all entries in the 4th row\n",
    "x[0:2, 4]  # first two entries of the 5th column\n",
    "x[6, 2:4]  # 7th row, 3rd and 4th entries. \n",
    "\n",
    "x[6]       # if not all dims specified then missing values are considered complete slices\n",
    "x[6,]      # these three ways of writing all do the same thing...\n",
    "x[6,:]\n",
    "\n",
    "# tricks...\n",
    "print('last row: ', x[-1,:])     # last row\n",
    "print('last column: ', x[:,-1])  # last column\n",
    "print('last entry: ', x[-1,-1])  # last value\n",
    "\n",
    "# iterating goes over the first dim (rows)\n",
    "for r in x:\n",
    "     print(r)\n",
    "        \n",
    "# can also iterate over all entries in the array using 'flat'\n",
    "# will proceed along 1st row, then to 2nd row, etc. \n",
    "for a in x.flat:\n",
    "    print(a)\n",
    "    # You can also use the ravel function"
   ]
  },
  {
   "cell_type": "markdown",
   "metadata": {},
   "source": [
    "## pull out subset of rows and columns"
   ]
  },
  {
   "cell_type": "code",
   "execution_count": 7,
   "metadata": {},
   "outputs": [
    {
     "name": "stdout",
     "output_type": "stream",
     "text": [
      "[[0.22061908 0.04933389 0.1867652 ]\n",
      " [0.10535018 0.64370652 0.66826934]\n",
      " [0.3562884  0.70878535 0.38636879]\n",
      " [0.51390719 0.03927028 0.7808751 ]]\n",
      "\n",
      " [[0.22061908 0.04933389 0.1867652 ]\n",
      " [0.10535018 0.64370652 0.66826934]]\n",
      "\n",
      " [[0.3562884  0.70878535 0.38636879]\n",
      " [0.51390719 0.03927028 0.7808751 ]]\n",
      "\n",
      " [0.22061908 0.10535018]\n",
      "\n",
      " [[0.70878535 0.38636879]\n",
      " [0.03927028 0.7808751 ]]\n"
     ]
    }
   ],
   "source": [
    "# generate a matrix of random numbers over 0-1\n",
    "x = np.random.rand(4,3) \n",
    "print(x)\n",
    "\n",
    "# first two rows - note that you don't have to specify the 2nd dim - and note that \n",
    "# '2' here means rows 0 and 1 (not 0 through 2!)\n",
    "y = x[:2] \n",
    "print('\\n', y)\n",
    "\n",
    "# can also take the last two rows...in the same manner...in this case rows 3 and 4\n",
    "y = x[2:] \n",
    "print('\\n', y)\n",
    "\n",
    "# first two rows, 1st column\n",
    "y = x[:2,0] \n",
    "print('\\n', y)\n",
    "\n",
    "# rows 3 - end, columns 2 - end\n",
    "y = x[2:,1:]\n",
    "print('\\n', y)"
   ]
  },
  {
   "cell_type": "markdown",
   "metadata": {},
   "source": [
    "<div class=\"alert alert-info\">\n",
    "important - slicing an array creates a view of it! if you change the view, you also will change the original data!\n",
    "</div>"
   ]
  },
  {
   "cell_type": "code",
   "execution_count": 8,
   "metadata": {},
   "outputs": [
    {
     "name": "stdout",
     "output_type": "stream",
     "text": [
      "(4, 3)\n",
      "[[100. 100. 100.]\n",
      " [100. 100. 100.]\n",
      " [100. 100. 100.]\n",
      " [100. 100. 100.]]\n"
     ]
    }
   ],
   "source": [
    "z = x[:,]\n",
    "print(z.shape)\n",
    "\n",
    "# change all values in z using [:]\n",
    "z[:]=100     # so if you change data in z it will also change in x\n",
    "\n",
    "print(x)"
   ]
  },
  {
   "cell_type": "markdown",
   "metadata": {},
   "source": [
    "## Fancy indexing...using arrays to index arrays - used all the time in data analysis..."
   ]
  },
  {
   "cell_type": "markdown",
   "metadata": {},
   "source": [
    "<div class=\"alert alert-info\">\n",
    "fancy indexing always makes a COPY of the data (unlike slicing which creates a view)!!!\n",
    "</div>"
   ]
  },
  {
   "cell_type": "code",
   "execution_count": 9,
   "metadata": {},
   "outputs": [
    {
     "name": "stdout",
     "output_type": "stream",
     "text": [
      "[[0.58905962 0.37740701 0.50887062 0.37851536]\n",
      " [0.58221501 0.58263547 0.86742213 0.53524197]\n",
      " [0.26268516 0.97885228 0.26354683 0.16460715]]\n",
      "\n",
      " x indexed at tuple y:  0.16460715370847012\n"
     ]
    }
   ],
   "source": [
    "# define an array\n",
    "x = np.random.rand(3,4)\n",
    "\n",
    "# index array - can be a tuple\n",
    "y = (2,3)\n",
    "\n",
    "# index\n",
    "print(x)\n",
    "print('\\n x indexed at tuple y: ', x[y])"
   ]
  },
  {
   "cell_type": "code",
   "execution_count": 12,
   "metadata": {},
   "outputs": [
    {
     "name": "stdout",
     "output_type": "stream",
     "text": [
      "[[0.58905962 0.37740701 0.50887062 0.37851536]\n",
      " [0.58221501 0.58263547 0.86742213 0.53524197]\n",
      " [0.26268516 0.97885228 0.26354683 0.16460715]]\n"
     ]
    },
    {
     "data": {
      "text/plain": [
       "array([[0.37740701, 0.50887062, 0.58905962],\n",
       "       [0.58263547, 0.86742213, 0.58221501],\n",
       "       [0.97885228, 0.26354683, 0.26268516]])"
      ]
     },
     "execution_count": 12,
     "metadata": {},
     "output_type": "execute_result"
    }
   ],
   "source": [
    "# can use fancy indexing to extract elements in a particular order\n",
    "print(x)\n",
    "\n",
    "# this will extract the 3rd row, then the 2nd row, then the first row\n",
    "x[[2,1,0]]\n",
    "\n",
    "# and this will extract all rows from the 2nd, 3rd and then 1st column. \n",
    "x[:,[1,2,0]]"
   ]
  },
  {
   "cell_type": "code",
   "execution_count": 13,
   "metadata": {},
   "outputs": [
    {
     "name": "stdout",
     "output_type": "stream",
     "text": [
      "[[0.58905962 0.37740701 0.50887062 0.37851536]\n",
      " [0.58221501 0.58263547 0.86742213 0.53524197]\n",
      " [0.26268516 0.97885228 0.26354683 0.16460715]]\n"
     ]
    },
    {
     "data": {
      "text/plain": [
       "array([0.58263547, 0.26354683])"
      ]
     },
     "execution_count": 13,
     "metadata": {},
     "output_type": "execute_result"
    }
   ],
   "source": [
    "# or can pass in multiple arrays...will return a 1D array \n",
    "# corresponding to each set of tuples (1,1) and (2,2) in this case\n",
    "print(x)\n",
    "x[[1,2],[1,2]]"
   ]
  },
  {
   "cell_type": "markdown",
   "metadata": {},
   "source": [
    "<div class=\"alert alert-info\">\n",
    "As opposed to selecting a set of tuples, you can also select a block of indices from a matrix. \n",
    "</div>"
   ]
  },
  {
   "cell_type": "code",
   "execution_count": 14,
   "metadata": {},
   "outputs": [
    {
     "name": "stdout",
     "output_type": "stream",
     "text": [
      "[[0.58905962 0.37740701 0.50887062 0.37851536]\n",
      " [0.58221501 0.58263547 0.86742213 0.53524197]\n",
      " [0.26268516 0.97885228 0.26354683 0.16460715]]\n",
      "[[0.86742213 0.53524197]\n",
      " [0.26354683 0.16460715]]\n"
     ]
    }
   ],
   "source": [
    "# grab the lower right chunk of data. \n",
    "print(x)\n",
    "print(x[[1,2]][:,[2,3]])  # 2nd term here extracts all rows from columns, first arg says restrict to last two rows. "
   ]
  }
 ],
 "metadata": {
  "kernelspec": {
   "display_name": "Python 3",
   "language": "python",
   "name": "python3"
  },
  "language_info": {
   "codemirror_mode": {
    "name": "ipython",
    "version": 3
   },
   "file_extension": ".py",
   "mimetype": "text/x-python",
   "name": "python",
   "nbconvert_exporter": "python",
   "pygments_lexer": "ipython3",
   "version": "3.7.0"
  }
 },
 "nbformat": 4,
 "nbformat_minor": 2
}
